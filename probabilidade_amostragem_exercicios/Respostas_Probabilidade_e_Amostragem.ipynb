{
  "nbformat": 4,
  "nbformat_minor": 0,
  "metadata": {
    "colab": {
      "provenance": []
    },
    "kernelspec": {
      "name": "python3",
      "display_name": "Python 3"
    },
    "language_info": {
      "name": "python"
    }
  },
  "cells": [
    {
      "cell_type": "code",
      "source": [
        "import matplotlib.pyplot as plt\n",
        "import scipy.stats as stats\n",
        "import pandas as pd\n",
        "import numpy as np"
      ],
      "metadata": {
        "id": "SY8z83_gyDYI"
      },
      "execution_count": null,
      "outputs": []
    },
    {
      "cell_type": "code",
      "source": [
        "dados = pd.read_csv('populacao_brasileira.csv', index_col=0)"
      ],
      "metadata": {
        "id": "5G3X5jpnwGkl"
      },
      "execution_count": null,
      "outputs": []
    },
    {
      "cell_type": "code",
      "source": [
        "dados.columns"
      ],
      "metadata": {
        "colab": {
          "base_uri": "https://localhost:8080/"
        },
        "id": "Zcsvqto5JeNc",
        "outputId": "a1233f99-8a01-4092-f65c-a0f000a50f7d"
      },
      "execution_count": null,
      "outputs": [
        {
          "output_type": "execute_result",
          "data": {
            "text/plain": [
              "Index(['estado', 'idade', 'escolaridade', 'nível de proficiência em inglês',\n",
              "       'renda', 'sexo'],\n",
              "      dtype='object')"
            ]
          },
          "metadata": {},
          "execution_count": 5
        }
      ]
    },
    {
      "cell_type": "markdown",
      "source": [
        "### 1. Considere pessoas fluentes em inglês, qual a probabilidade complementar? Ou seja, qual a probabilidade de escolhermos uma pessoa aleatória e ela não ser fluente em inglês. Considere fluente quem tem o nível avançado.\n"
      ],
      "metadata": {
        "id": "EFwCzlQGI_Zx"
      }
    },
    {
      "cell_type": "code",
      "source": [
        "quant_pessoas = len(dados)\n",
        "\n",
        "quant_fluente_ingles = dados[dados['nível de proficiência em inglês'] == 'Avançado'].shape[0]"
      ],
      "metadata": {
        "id": "5HARhILO1sGF"
      },
      "execution_count": null,
      "outputs": []
    },
    {
      "cell_type": "code",
      "source": [
        "complementar = (1 - quant_fluente_ingles/quant_pessoas)*100\n",
        "print('A valor complementar da probabilidade é que', round(complementar, 2), '%.')"
      ],
      "metadata": {
        "colab": {
          "base_uri": "https://localhost:8080/"
        },
        "id": "McR1TMWDKAEB",
        "outputId": "357305ec-b12e-47ee-8c7e-a1d33ec15ad8"
      },
      "execution_count": null,
      "outputs": [
        {
          "output_type": "stream",
          "name": "stdout",
          "text": [
            "A valor complementar da probabilidade é que 65.6 %.\n"
          ]
        }
      ]
    },
    {
      "cell_type": "markdown",
      "source": [
        "### 2. Se uma pessoa escolhida aleatoriamente for de Alagoas ou do Pará, qual é a probabilidade de ela ter uma renda superior a 5 mil reais?"
      ],
      "metadata": {
        "id": "fqnTg1CCaMNO"
      }
    },
    {
      "cell_type": "code",
      "source": [
        "dados_AL_PA = dados[(dados['estado'] == 'AL') | (dados['estado'] == 'PA')]\n",
        "\n",
        "quant_AL_PA = dados_AL_PA.shape[0]\n",
        "renda_5mil_AL_PA = dados_AL_PA[dados_AL_PA['renda'] > 5000].shape[0]\n",
        "\n",
        "print('Probabilidade de pessoas de AL e PA terem renda maior que 5.000 mil reais é:', round(renda_5mil_AL_PA/quant_AL_PA, 2))"
      ],
      "metadata": {
        "colab": {
          "base_uri": "https://localhost:8080/"
        },
        "id": "2PhiRX7NaStJ",
        "outputId": "cfe40f01-00dd-4306-d208-e39780efaaff"
      },
      "execution_count": null,
      "outputs": [
        {
          "output_type": "stream",
          "name": "stdout",
          "text": [
            "Probabilidade de pessoas de AL e PA terem renda maior que 5.000 mil reais é: 0.05\n"
          ]
        }
      ]
    },
    {
      "cell_type": "markdown",
      "source": [
        "### 3. Descubra a probabilidade de uma pessoa ter ensino superior completo no estado do Amazonas. Qual a probabilidade da quinta pessoa que você conversar, que é amazonense, ter ensino superior completo?\n",
        "\n",
        "**Usa-se distribuição geométrica para responder essa questão.**"
      ],
      "metadata": {
        "id": "rqhDHSPFcwOi"
      }
    },
    {
      "cell_type": "code",
      "source": [
        "dados_AM = dados[(dados['estado'] == 'AM')]\n",
        "quant_AM = dados_AM.shape[0]\n",
        "superior_AM = dados_AM[(dados_AM['escolaridade'] == 'Superior') | (dados_AM['escolaridade'] == 'Pós-graduação')]\n",
        "quant_superior_AM = superior_AM.shape[0]\n",
        "\n",
        "proporcao_ensino_superior_AM  = quant_superior_AM/quant_AM"
      ],
      "metadata": {
        "id": "QDPDKUslehS2"
      },
      "execution_count": null,
      "outputs": []
    },
    {
      "cell_type": "code",
      "source": [
        "prob_quinta_pessoa_amazonense = stats.geom.pmf(k=5, p=proporcao_ensino_superior_AM)\n",
        "\n",
        "print(f\"Probabilidade da quinta pessoa que você conversar, que é amazonense, ter ensino superior completo: {prob_quinta_pessoa_amazonense:.2%}\")"
      ],
      "metadata": {
        "colab": {
          "base_uri": "https://localhost:8080/"
        },
        "id": "D_b7AuGMaSxI",
        "outputId": "7c25f65d-4486-427b-a2ee-6aeed70d0e22"
      },
      "execution_count": null,
      "outputs": [
        {
          "output_type": "stream",
          "name": "stdout",
          "text": [
            "Probabilidade da quinta pessoa que você conversar, que é amazonense, ter ensino superior completo: 2.21%\n"
          ]
        }
      ]
    },
    {
      "cell_type": "markdown",
      "source": [
        "### 4. Considerando a renda das pessoas do nosso conjunto, podemos dizer que a renda de uma pessoa brasileira está na sua maioria em que faixa (faça faixa de 1.500 reais)? Qual é a sua função densidade de probabilidade?"
      ],
      "metadata": {
        "id": "HT7ZH9imgRE8"
      }
    },
    {
      "cell_type": "code",
      "source": [
        "intervalo = 1500\n",
        "faixas_renda = np.arange(0, dados['renda'].max() + intervalo, intervalo)\n",
        "contagem_por_faixa, _ = np.histogram(dados['renda'], bins=faixas_renda)\n",
        "\n",
        "faixa_predominante = np.argmax(contagem_por_faixa) * intervalo\n",
        "print(\"Faixa de renda predominante:\", faixa_predominante, \"-\", faixa_predominante + intervalo)\n",
        "\n",
        "plt.hist(dados['renda'], bins=faixas_renda)\n",
        "plt.title('Histograma - Função de Densidade de Probabilidade')\n",
        "plt.xlabel('Renda (R$)')\n",
        "plt.ylabel('Densidade de probabilidade')\n",
        "plt.grid(True)\n",
        "plt.show()\n"
      ],
      "metadata": {
        "colab": {
          "base_uri": "https://localhost:8080/",
          "height": 489
        },
        "id": "Rff9s66_glpq",
        "outputId": "57c017fa-d29f-4329-e0b9-faefb9e713a6"
      },
      "execution_count": null,
      "outputs": [
        {
          "output_type": "stream",
          "name": "stdout",
          "text": [
            "Faixa de renda predominante: 3000 - 4500\n"
          ]
        },
        {
          "output_type": "display_data",
          "data": {
            "text/plain": [
              "<Figure size 640x480 with 1 Axes>"
            ],
            "image/png": "[encoded data removed]"
          },
          "metadata": {}
        }
      ]
    },
    {
      "cell_type": "markdown",
      "source": [
        "### 5. Calcule a média e a variância da renda da amostra. Depois faça a distribuição normal, inclua o gráfico.\n"
      ],
      "metadata": {
        "id": "EVjg1zxwh6wH"
      }
    },
    {
      "cell_type": "code",
      "source": [
        "media_renda = dados['renda'].mean()\n",
        "variancia_renda = dados['renda'].var()\n",
        "\n",
        "print(f\"Média da renda: {media_renda}\")\n",
        "print(\"Variância da renda:\", variancia_renda)\n",
        "\n",
        "plt.hist(dados['renda'], bins=6)\n",
        "plt.title('Distribuição Normal da Renda')\n",
        "plt.xlabel('Renda (R$)')\n",
        "plt.ylabel('Densidade de Probabilidade')\n",
        "plt.show()"
      ],
      "metadata": {
        "colab": {
          "base_uri": "https://localhost:8080/",
          "height": 507
        },
        "id": "liONx4XfiIwr",
        "outputId": "718b06b3-6612-4372-de3c-f741e8a7279e"
      },
      "execution_count": null,
      "outputs": [
        {
          "output_type": "stream",
          "name": "stdout",
          "text": [
            "Média da renda: 3082.5371800000003\n",
            "Variância da renda: 993156.2281676152\n"
          ]
        },
        {
          "output_type": "display_data",
          "data": {
            "text/plain": [
              "<Figure size 640x480 with 1 Axes>"
            ],
            "image/png": "[encoded data removed]"
          },
          "metadata": {}
        }
      ]
    },
    {
      "cell_type": "markdown",
      "source": [
        "### 6. Primeiro considere a probabilidade encontrada no nosso conjunto de pessoas com escolaridade de pós-graduação. Considerando a amostra de população brasileira com 1 milhão de habitantes, qual a probabilidade de encontrarmos 243 mil pessoas com pós-graduação?\n",
        "\n",
        "**Usando distribuição binomial.**"
      ],
      "metadata": {
        "id": "IscC7I1RmN1c"
      }
    },
    {
      "cell_type": "code",
      "source": [
        "quant_pessoas\n",
        "\n",
        "probabilidade_pos_graduacao = dados[dados.escolaridade == 'Pós-graduação']['escolaridade'].count()/quant_pessoas\n",
        "\n",
        "# Tamanho da amostra (população brasileira com 1 milhão de habitantes)\n",
        "n = 1_000_000\n",
        "\n",
        "# Número de sucessos desejados (243 mil pessoas com pós-graduação)\n",
        "k = 243000\n",
        "\n",
        "# Calcular a probabilidade usando a distribuição binomial\n",
        "probabilidade = stats.binom.pmf(k, n, 0.253)\n",
        "\n",
        "print(f\"Probabilidade de encontrarmos 243 mil pessoas com pós-graduação: {probabilidade}\")\n"
      ],
      "metadata": {
        "colab": {
          "base_uri": "https://localhost:8080/"
        },
        "id": "9uDaWz0piIos",
        "outputId": "4d10f8e1-39c6-4e52-bff4-55866b9a51ff"
      },
      "execution_count": null,
      "outputs": [
        {
          "output_type": "stream",
          "name": "stdout",
          "text": [
            "Probabilidade de encontrarmos 243 mil pessoas com pós-graduação: 1.1104854289794913e-119\n"
          ]
        }
      ]
    },
    {
      "cell_type": "markdown",
      "source": [
        "### 7. Somando as densidades nós temos a função de densidade acumulada. Considerando a coluna ‘Escolaridade’ faça a função de densidade acumulada discreta para cada nível de escolaridade.\n"
      ],
      "metadata": {
        "id": "Yj548tdwnKFe"
      }
    },
    {
      "cell_type": "code",
      "source": [
        "cont_escolaridade = dados['escolaridade'].value_counts().sort_index()\n",
        "\n",
        "frequencia_relativa = cont_escolaridade / len(dados)\n",
        "\n",
        "densidade_acumulada = frequencia_relativa.cumsum()\n",
        "\n",
        "print(\"Função de Densidade Acumulada Discreta:\\n\", densidade_acumulada)\n",
        "\n",
        "plt.bar(densidade_acumulada.index, densidade_acumulada)\n",
        "plt.xlabel('Escolaridade')\n",
        "plt.ylabel('Densidade Acumulada')\n",
        "plt.show()\n"
      ],
      "metadata": {
        "colab": {
          "base_uri": "https://localhost:8080/",
          "height": 554
        },
        "id": "d2zBd6IAnqVs",
        "outputId": "a9b49b93-4e13-4677-cac8-c28c8eb4cbc8"
      },
      "execution_count": null,
      "outputs": [
        {
          "output_type": "stream",
          "name": "stdout",
          "text": [
            "Função de Densidade Acumulada Discreta:\n",
            " Fundamental      0.266\n",
            "Médio            0.504\n",
            "Pós-graduação    0.757\n",
            "Superior         1.000\n",
            "Name: escolaridade, dtype: float64\n"
          ]
        },
        {
          "output_type": "display_data",
          "data": {
            "text/plain": [
              "<Figure size 640x480 with 1 Axes>"
            ],
            "image/png": "[encoded data removed]"
          },
          "metadata": {}
        }
      ]
    },
    {
      "cell_type": "markdown",
      "source": [
        "### 8. Qual a margem de erro amostral da proporção populacional considerando a proporção de pessoas com nível de inglês intermediário?\n"
      ],
      "metadata": {
        "id": "WjKEflOgo9rQ"
      }
    },
    {
      "cell_type": "code",
      "source": [
        "prop_intermediario = (dados['nível de proficiência em inglês'] == 'Intermediário').mean()\n",
        "\n",
        "confianca = 0.95\n",
        "\n",
        "z = stats.norm.ppf((1 + confianca) / 2)\n",
        "\n",
        "# Calcular a margem de erro amostral\n",
        "margem_erro = z * ((prop_intermediario * (1 - prop_intermediario)) / quant_pessoas) ** 0.5\n",
        "\n",
        "print(\"Margem de erro amostral para a proporção de pessoas com nível de inglês intermediário:\", margem_erro)\n"
      ],
      "metadata": {
        "colab": {
          "base_uri": "https://localhost:8080/"
        },
        "id": "YDroRisCnyXX",
        "outputId": "afd7a0af-1800-453a-9d13-6f4764f94a91"
      },
      "execution_count": null,
      "outputs": [
        {
          "output_type": "stream",
          "name": "stdout",
          "text": [
            "Margem de erro amostral para a proporção de pessoas com nível de inglês intermediário: 0.029121068108804226\n"
          ]
        }
      ]
    },
    {
      "cell_type": "markdown",
      "source": [
        "### 9. Calcula a renda da população. Qual a probabilidade de encontrar 60 pessoas com uma renda mil reais superior à média?\n",
        "\n",
        "**Distribuição bonomial**"
      ],
      "metadata": {
        "id": "lYTy6wkmqHcF"
      }
    },
    {
      "cell_type": "code",
      "source": [
        "desvio_renda = dados['renda'].std()\n",
        "\n",
        "valor_referencia = media_renda + 1000\n",
        "\n",
        "\n",
        "probabilidade_superior = 1 - stats.norm.cdf(valor_referencia, loc=media_renda, scale=dados['renda'].std())\n",
        "\n",
        "k = 60  # Número de pessoas com uma renda superior ao valor de referência\n",
        "\n",
        "probabilidade_60_pessoas = stats.binom.pmf(k, quant_pessoas, probabilidade_superior)\n",
        "\n",
        "print(\"Probabilidade de encontrar 60 pessoas com uma renda mil reais superior à média:\", probabilidade_60_pessoas)\n"
      ],
      "metadata": {
        "colab": {
          "base_uri": "https://localhost:8080/"
        },
        "id": "t_46znLw2TDc",
        "outputId": "54a07413-eeb9-4083-8a6f-84ac82f00954"
      },
      "execution_count": null,
      "outputs": [
        {
          "output_type": "stream",
          "name": "stdout",
          "text": [
            "Probabilidade de encontrar 60 pessoas com uma renda mil reais superior à média: 1.159703840678535e-21\n"
          ]
        }
      ]
    },
    {
      "cell_type": "markdown",
      "source": [
        "### 10.  Qual a probabilidade de escolhermos alguém do Sudeste que seja homem, com ensino fundamental e com renda maior que 2 mil reais por mês?"
      ],
      "metadata": {
        "id": "gSM0ij7Gq-Yr"
      }
    },
    {
      "cell_type": "code",
      "source": [
        "\n",
        "freq_sudeste = (dados['estado'].isin(['SP', 'RJ', 'ES', 'MG'])).mean()\n",
        "\n",
        "freq_homem = (dados['sexo'] == 'M').mean()\n",
        "\n",
        "freq_ensino_fundamental = (dados['escolaridade'] == 'Fundamental').mean()\n",
        "\n",
        "freq_renda_2mil = (dados['renda'] > 2000).mean()\n",
        "\n",
        "probabilidade = freq_sudeste * freq_homem * freq_ensino_fundamental * freq_renda_2mil\n",
        "\n",
        "print(\"Probabilidade de escolher alguém do Sudeste, homem, com ensino fundamental e renda maior que 2 mil reais por mês:\", probabilidade)\n"
      ],
      "metadata": {
        "colab": {
          "base_uri": "https://localhost:8080/"
        },
        "id": "i9cG-RZSq9rq",
        "outputId": "7280090c-728d-4d20-89f6-49c384288bfd"
      },
      "execution_count": null,
      "outputs": [
        {
          "output_type": "stream",
          "name": "stdout",
          "text": [
            "Probabilidade de escolher alguém do Sudeste, homem, com ensino fundamental e renda maior que 2 mil reais por mês: 0.017414252856\n"
          ]
        }
      ]
    },
    {
      "cell_type": "code",
      "source": [
        "tudo_junto = dados[(dados['escolaridade'] == 'Fundamental') & (dados['estado'].isin(['SP', 'RJ', 'ES', 'MG'])) & (dados['sexo'] == 'M') & (dados['renda'] > 2000)]\n",
        "tudo_junto"
      ],
      "metadata": {
        "colab": {
          "base_uri": "https://localhost:8080/",
          "height": 645
        },
        "id": "XsxN-3ZXse1z",
        "outputId": "81c65df1-68aa-48d1-d848-8353a8ddea77"
      },
      "execution_count": null,
      "outputs": [
        {
          "output_type": "execute_result",
          "data": {
            "text/plain": [
              "    estado  idade escolaridade nível de proficiência em inglês    renda sexo\n",
              "155     ES     32  Fundamental                   Intermediário  3615.94    M\n",
              "163     ES     45  Fundamental                          Básico  4049.01    M\n",
              "205     ES     19  Fundamental                        Avançado  3026.09    M\n",
              "301     SP     50  Fundamental                        Avançado  2786.01    M\n",
              "505     SP     18  Fundamental                          Básico  2961.49    M\n",
              "524     MG     27  Fundamental                   Intermediário  4148.77    M\n",
              "612     RJ     19  Fundamental                   Intermediário  2008.61    M\n",
              "626     RJ     21  Fundamental                   Intermediário  4022.57    M\n",
              "680     ES     29  Fundamental                   Intermediário  2164.65    M\n",
              "732     MG     50  Fundamental                   Intermediário  4091.31    M\n",
              "773     MG     18  Fundamental                          Básico  3817.77    M\n",
              "775     MG     22  Fundamental                   Intermediário  3557.81    M\n",
              "785     RJ     19  Fundamental                   Intermediário  3486.50    M\n",
              "814     RJ     51  Fundamental                          Básico  3541.46    M\n",
              "871     RJ     32  Fundamental                        Avançado  2749.17    M\n",
              "881     MG     62  Fundamental                          Básico  3507.84    M\n",
              "885     ES     20  Fundamental                        Avançado  2160.79    M\n",
              "939     ES     23  Fundamental                   Intermediário  3419.53    M\n",
              "985     ES     55  Fundamental                   Intermediário  2040.56    M"
            ],
            "text/html": [
              "\n",
              "  <div id=\"df-91fd61bb-9a30-490f-bb7e-9fea07239811\" class=\"colab-df-container\">\n",
              "    <div>\n",
              "<style scoped>\n",
              "    .dataframe tbody tr th:only-of-type {\n",
              "        vertical-align: middle;\n",
              "    }\n",
              "\n",
              "    .dataframe tbody tr th {\n",
              "        vertical-align: top;\n",
              "    }\n",
              "\n",
              "    .dataframe thead th {\n",
              "        text-align: right;\n",
              "    }\n",
              "</style>\n",
              "<table border=\"1\" class=\"dataframe\">\n",
              "  <thead>\n",
              "    <tr style=\"text-align: right;\">\n",
              "      <th></th>\n",
              "      <th>estado</th>\n",
              "      <th>idade</th>\n",
              "      <th>escolaridade</th>\n",
              "      <th>nível de proficiência em inglês</th>\n",
              "      <th>renda</th>\n",
              "      <th>sexo</th>\n",
              "    </tr>\n",
              "  </thead>\n",
              "  <tbody>\n",
              "    <tr>\n",
              "      <th>155</th>\n",
              "      <td>ES</td>\n",
              "      <td>32</td>\n",
              "      <td>Fundamental</td>\n",
              "      <td>Intermediário</td>\n",
              "      <td>3615.94</td>\n",
              "      <td>M</td>\n",
              "    </tr>\n",
              "    <tr>\n",
              "      <th>163</th>\n",
              "      <td>ES</td>\n",
              "      <td>45</td>\n",
              "      <td>Fundamental</td>\n",
              "      <td>Básico</td>\n",
              "      <td>4049.01</td>\n",
              "      <td>M</td>\n",
              "    </tr>\n",
              "    <tr>\n",
              "      <th>205</th>\n",
              "      <td>ES</td>\n",
              "      <td>19</td>\n",
              "      <td>Fundamental</td>\n",
              "      <td>Avançado</td>\n",
              "      <td>3026.09</td>\n",
              "      <td>M</td>\n",
              "    </tr>\n",
              "    <tr>\n",
              "      <th>301</th>\n",
              "      <td>SP</td>\n",
              "      <td>50</td>\n",
              "      <td>Fundamental</td>\n",
              "      <td>Avançado</td>\n",
              "      <td>2786.01</td>\n",
              "      <td>M</td>\n",
              "    </tr>\n",
              "    <tr>\n",
              "      <th>505</th>\n",
              "      <td>SP</td>\n",
              "      <td>18</td>\n",
              "      <td>Fundamental</td>\n",
              "      <td>Básico</td>\n",
              "      <td>2961.49</td>\n",
              "      <td>M</td>\n",
              "    </tr>\n",
              "    <tr>\n",
              "      <th>524</th>\n",
              "      <td>MG</td>\n",
              "      <td>27</td>\n",
              "      <td>Fundamental</td>\n",
              "      <td>Intermediário</td>\n",
              "      <td>4148.77</td>\n",
              "      <td>M</td>\n",
              "    </tr>\n",
              "    <tr>\n",
              "      <th>612</th>\n",
              "      <td>RJ</td>\n",
              "      <td>19</td>\n",
              "      <td>Fundamental</td>\n",
              "      <td>Intermediário</td>\n",
              "      <td>2008.61</td>\n",
              "      <td>M</td>\n",
              "    </tr>\n",
              "    <tr>\n",
              "      <th>626</th>\n",
              "      <td>RJ</td>\n",
              "      <td>21</td>\n",
              "      <td>Fundamental</td>\n",
              "      <td>Intermediário</td>\n",
              "      <td>4022.57</td>\n",
              "      <td>M</td>\n",
              "    </tr>\n",
              "    <tr>\n",
              "      <th>680</th>\n",
              "      <td>ES</td>\n",
              "      <td>29</td>\n",
              "      <td>Fundamental</td>\n",
              "      <td>Intermediário</td>\n",
              "      <td>2164.65</td>\n",
              "      <td>M</td>\n",
              "    </tr>\n",
              "    <tr>\n",
              "      <th>732</th>\n",
              "      <td>MG</td>\n",
              "      <td>50</td>\n",
              "      <td>Fundamental</td>\n",
              "      <td>Intermediário</td>\n",
              "      <td>4091.31</td>\n",
              "      <td>M</td>\n",
              "    </tr>\n",
              "    <tr>\n",
              "      <th>773</th>\n",
              "      <td>MG</td>\n",
              "      <td>18</td>\n",
              "      <td>Fundamental</td>\n",
              "      <td>Básico</td>\n",
              "      <td>3817.77</td>\n",
              "      <td>M</td>\n",
              "    </tr>\n",
              "    <tr>\n",
              "      <th>775</th>\n",
              "      <td>MG</td>\n",
              "      <td>22</td>\n",
              "      <td>Fundamental</td>\n",
              "      <td>Intermediário</td>\n",
              "      <td>3557.81</td>\n",
              "      <td>M</td>\n",
              "    </tr>\n",
              "    <tr>\n",
              "      <th>785</th>\n",
              "      <td>RJ</td>\n",
              "      <td>19</td>\n",
              "      <td>Fundamental</td>\n",
              "      <td>Intermediário</td>\n",
              "      <td>3486.50</td>\n",
              "      <td>M</td>\n",
              "    </tr>\n",
              "    <tr>\n",
              "      <th>814</th>\n",
              "      <td>RJ</td>\n",
              "      <td>51</td>\n",
              "      <td>Fundamental</td>\n",
              "      <td>Básico</td>\n",
              "      <td>3541.46</td>\n",
              "      <td>M</td>\n",
              "    </tr>\n",
              "    <tr>\n",
              "      <th>871</th>\n",
              "      <td>RJ</td>\n",
              "      <td>32</td>\n",
              "      <td>Fundamental</td>\n",
              "      <td>Avançado</td>\n",
              "      <td>2749.17</td>\n",
              "      <td>M</td>\n",
              "    </tr>\n",
              "    <tr>\n",
              "      <th>881</th>\n",
              "      <td>MG</td>\n",
              "      <td>62</td>\n",
              "      <td>Fundamental</td>\n",
              "      <td>Básico</td>\n",
              "      <td>3507.84</td>\n",
              "      <td>M</td>\n",
              "    </tr>\n",
              "    <tr>\n",
              "      <th>885</th>\n",
              "      <td>ES</td>\n",
              "      <td>20</td>\n",
              "      <td>Fundamental</td>\n",
              "      <td>Avançado</td>\n",
              "      <td>2160.79</td>\n",
              "      <td>M</td>\n",
              "    </tr>\n",
              "    <tr>\n",
              "      <th>939</th>\n",
              "      <td>ES</td>\n",
              "      <td>23</td>\n",
              "      <td>Fundamental</td>\n",
              "      <td>Intermediário</td>\n",
              "      <td>3419.53</td>\n",
              "      <td>M</td>\n",
              "    </tr>\n",
              "    <tr>\n",
              "      <th>985</th>\n",
              "      <td>ES</td>\n",
              "      <td>55</td>\n",
              "      <td>Fundamental</td>\n",
              "      <td>Intermediário</td>\n",
              "      <td>2040.56</td>\n",
              "      <td>M</td>\n",
              "    </tr>\n",
              "  </tbody>\n",
              "</table>\n",
              "</div>\n",
              "    <div class=\"colab-df-buttons\">\n",
              "\n",
              "  <div class=\"colab-df-container\">\n",
              "    <button class=\"colab-df-convert\" onclick=\"convertToInteractive('df-91fd61bb-9a30-490f-bb7e-9fea07239811')\"\n",
              "            title=\"Convert this dataframe to an interactive table.\"\n",
              "            style=\"display:none;\">\n",
              "\n",
              "  <svg xmlns=\"http://www.w3.org/2000/svg\" height=\"24px\" viewBox=\"0 -960 960 960\">\n",
              "    <path d=\"M120-120v-720h720v720H120Zm60-500h600v-160H180v160Zm220 220h160v-160H400v160Zm0 220h160v-160H400v160ZM180-400h160v-160H180v160Zm440 0h160v-160H620v160ZM180-180h160v-160H180v160Zm440 0h160v-160H620v160Z\"/>\n",
              "  </svg>\n",
              "    </button>\n",
              "\n",
              "  <style>\n",
              "    .colab-df-container {\n",
              "      display:flex;\n",
              "      gap: 12px;\n",
              "    }\n",
              "\n",
              "    .colab-df-convert {\n",
              "      background-color: #E8F0FE;\n",
              "      border: none;\n",
              "      border-radius: 50%;\n",
              "      cursor: pointer;\n",
              "      display: none;\n",
              "      fill: #1967D2;\n",
              "      height: 32px;\n",
              "      padding: 0 0 0 0;\n",
              "      width: 32px;\n",
              "    }\n",
              "\n",
              "    .colab-df-convert:hover {\n",
              "      background-color: #E2EBFA;\n",
              "      box-shadow: 0px 1px 2px rgba(60, 64, 67, 0.3), 0px 1px 3px 1px rgba(60, 64, 67, 0.15);\n",
              "      fill: #174EA6;\n",
              "    }\n",
              "\n",
              "    .colab-df-buttons div {\n",
              "      margin-bottom: 4px;\n",
              "    }\n",
              "\n",
              "    [theme=dark] .colab-df-convert {\n",
              "      background-color: #3B4455;\n",
              "      fill: #D2E3FC;\n",
              "    }\n",
              "\n",
              "    [theme=dark] .colab-df-convert:hover {\n",
              "      background-color: #434B5C;\n",
              "      box-shadow: 0px 1px 3px 1px rgba(0, 0, 0, 0.15);\n",
              "      filter: drop-shadow(0px 1px 2px rgba(0, 0, 0, 0.3));\n",
              "      fill: #FFFFFF;\n",
              "    }\n",
              "  </style>\n",
              "\n",
              "    <script>\n",
              "      const buttonEl =\n",
              "        document.querySelector('#df-91fd61bb-9a30-490f-bb7e-9fea07239811 button.colab-df-convert');\n",
              "      buttonEl.style.display =\n",
              "        google.colab.kernel.accessAllowed ? 'block' : 'none';\n",
              "\n",
              "      async function convertToInteractive(key) {\n",
              "        const element = document.querySelector('#df-91fd61bb-9a30-490f-bb7e-9fea07239811');\n",
              "        const dataTable =\n",
              "          await google.colab.kernel.invokeFunction('convertToInteractive',\n",
              "                                                    [key], {});\n",
              "        if (!dataTable) return;\n",
              "\n",
              "        const docLinkHtml = 'Like what you see? Visit the ' +\n",
              "          '<a target=\"_blank\" href=https://colab.research.google.com/notebooks/data_table.ipynb>data table notebook</a>'\n",
              "          + ' to learn more about interactive tables.';\n",
              "        element.innerHTML = '';\n",
              "        dataTable['output_type'] = 'display_data';\n",
              "        await google.colab.output.renderOutput(dataTable, element);\n",
              "        const docLink = document.createElement('div');\n",
              "        docLink.innerHTML = docLinkHtml;\n",
              "        element.appendChild(docLink);\n",
              "      }\n",
              "    </script>\n",
              "  </div>\n",
              "\n",
              "\n",
              "<div id=\"df-f26a2ef6-1e0c-4f17-b000-781016168cbc\">\n",
              "  <button class=\"colab-df-quickchart\" onclick=\"quickchart('df-f26a2ef6-1e0c-4f17-b000-781016168cbc')\"\n",
              "            title=\"Suggest charts\"\n",
              "            style=\"display:none;\">\n",
              "\n",
              "<svg xmlns=\"http://www.w3.org/2000/svg\" height=\"24px\"viewBox=\"0 0 24 24\"\n",
              "     width=\"24px\">\n",
              "    <g>\n",
              "        <path d=\"M19 3H5c-1.1 0-2 .9-2 2v14c0 1.1.9 2 2 2h14c1.1 0 2-.9 2-2V5c0-1.1-.9-2-2-2zM9 17H7v-7h2v7zm4 0h-2V7h2v10zm4 0h-2v-4h2v4z\"/>\n",
              "    </g>\n",
              "</svg>\n",
              "  </button>\n",
              "\n",
              "<style>\n",
              "  .colab-df-quickchart {\n",
              "      --bg-color: #E8F0FE;\n",
              "      --fill-color: #1967D2;\n",
              "      --hover-bg-color: #E2EBFA;\n",
              "      --hover-fill-color: #174EA6;\n",
              "      --disabled-fill-color: #AAA;\n",
              "      --disabled-bg-color: #DDD;\n",
              "  }\n",
              "\n",
              "  [theme=dark] .colab-df-quickchart {\n",
              "      --bg-color: #3B4455;\n",
              "      --fill-color: #D2E3FC;\n",
              "      --hover-bg-color: #434B5C;\n",
              "      --hover-fill-color: #FFFFFF;\n",
              "      --disabled-bg-color: #3B4455;\n",
              "      --disabled-fill-color: #666;\n",
              "  }\n",
              "\n",
              "  .colab-df-quickchart {\n",
              "    background-color: var(--bg-color);\n",
              "    border: none;\n",
              "    border-radius: 50%;\n",
              "    cursor: pointer;\n",
              "    display: none;\n",
              "    fill: var(--fill-color);\n",
              "    height: 32px;\n",
              "    padding: 0;\n",
              "    width: 32px;\n",
              "  }\n",
              "\n",
              "  .colab-df-quickchart:hover {\n",
              "    background-color: var(--hover-bg-color);\n",
              "    box-shadow: 0 1px 2px rgba(60, 64, 67, 0.3), 0 1px 3px 1px rgba(60, 64, 67, 0.15);\n",
              "    fill: var(--button-hover-fill-color);\n",
              "  }\n",
              "\n",
              "  .colab-df-quickchart-complete:disabled,\n",
              "  .colab-df-quickchart-complete:disabled:hover {\n",
              "    background-color: var(--disabled-bg-color);\n",
              "    fill: var(--disabled-fill-color);\n",
              "    box-shadow: none;\n",
              "  }\n",
              "\n",
              "  .colab-df-spinner {\n",
              "    border: 2px solid var(--fill-color);\n",
              "    border-color: transparent;\n",
              "    border-bottom-color: var(--fill-color);\n",
              "    animation:\n",
              "      spin 1s steps(1) infinite;\n",
              "  }\n",
              "\n",
              "  @keyframes spin {\n",
              "    0% {\n",
              "      border-color: transparent;\n",
              "      border-bottom-color: var(--fill-color);\n",
              "      border-left-color: var(--fill-color);\n",
              "    }\n",
              "    20% {\n",
              "      border-color: transparent;\n",
              "      border-left-color: var(--fill-color);\n",
              "      border-top-color: var(--fill-color);\n",
              "    }\n",
              "    30% {\n",
              "      border-color: transparent;\n",
              "      border-left-color: var(--fill-color);\n",
              "      border-top-color: var(--fill-color);\n",
              "      border-right-color: var(--fill-color);\n",
              "    }\n",
              "    40% {\n",
              "      border-color: transparent;\n",
              "      border-right-color: var(--fill-color);\n",
              "      border-top-color: var(--fill-color);\n",
              "    }\n",
              "    60% {\n",
              "      border-color: transparent;\n",
              "      border-right-color: var(--fill-color);\n",
              "    }\n",
              "    80% {\n",
              "      border-color: transparent;\n",
              "      border-right-color: var(--fill-color);\n",
              "      border-bottom-color: var(--fill-color);\n",
              "    }\n",
              "    90% {\n",
              "      border-color: transparent;\n",
              "      border-bottom-color: var(--fill-color);\n",
              "    }\n",
              "  }\n",
              "</style>\n",
              "\n",
              "  <script>\n",
              "    async function quickchart(key) {\n",
              "      const quickchartButtonEl =\n",
              "        document.querySelector('#' + key + ' button');\n",
              "      quickchartButtonEl.disabled = true;  // To prevent multiple clicks.\n",
              "      quickchartButtonEl.classList.add('colab-df-spinner');\n",
              "      try {\n",
              "        const charts = await google.colab.kernel.invokeFunction(\n",
              "            'suggestCharts', [key], {});\n",
              "      } catch (error) {\n",
              "        console.error('Error during call to suggestCharts:', error);\n",
              "      }\n",
              "      quickchartButtonEl.classList.remove('colab-df-spinner');\n",
              "      quickchartButtonEl.classList.add('colab-df-quickchart-complete');\n",
              "    }\n",
              "    (() => {\n",
              "      let quickchartButtonEl =\n",
              "        document.querySelector('#df-f26a2ef6-1e0c-4f17-b000-781016168cbc button');\n",
              "      quickchartButtonEl.style.display =\n",
              "        google.colab.kernel.accessAllowed ? 'block' : 'none';\n",
              "    })();\n",
              "  </script>\n",
              "</div>\n",
              "\n",
              "  <div id=\"id_b7945319-9c5f-4d66-a435-c6248a8627a4\">\n",
              "    <style>\n",
              "      .colab-df-generate {\n",
              "        background-color: #E8F0FE;\n",
              "        border: none;\n",
              "        border-radius: 50%;\n",
              "        cursor: pointer;\n",
              "        display: none;\n",
              "        fill: #1967D2;\n",
              "        height: 32px;\n",
              "        padding: 0 0 0 0;\n",
              "        width: 32px;\n",
              "      }\n",
              "\n",
              "      .colab-df-generate:hover {\n",
              "        background-color: #E2EBFA;\n",
              "        box-shadow: 0px 1px 2px rgba(60, 64, 67, 0.3), 0px 1px 3px 1px rgba(60, 64, 67, 0.15);\n",
              "        fill: #174EA6;\n",
              "      }\n",
              "\n",
              "      [theme=dark] .colab-df-generate {\n",
              "        background-color: #3B4455;\n",
              "        fill: #D2E3FC;\n",
              "      }\n",
              "\n",
              "      [theme=dark] .colab-df-generate:hover {\n",
              "        background-color: #434B5C;\n",
              "        box-shadow: 0px 1px 3px 1px rgba(0, 0, 0, 0.15);\n",
              "        filter: drop-shadow(0px 1px 2px rgba(0, 0, 0, 0.3));\n",
              "        fill: #FFFFFF;\n",
              "      }\n",
              "    </style>\n",
              "    <button class=\"colab-df-generate\" onclick=\"generateWithVariable('tudo_junto')\"\n",
              "            title=\"Generate code using this dataframe.\"\n",
              "            style=\"display:none;\">\n",
              "\n",
              "  <svg xmlns=\"http://www.w3.org/2000/svg\" height=\"24px\"viewBox=\"0 0 24 24\"\n",
              "       width=\"24px\">\n",
              "    <path d=\"M7,19H8.4L18.45,9,17,7.55,7,17.6ZM5,21V16.75L18.45,3.32a2,2,0,0,1,2.83,0l1.4,1.43a1.91,1.91,0,0,1,.58,1.4,1.91,1.91,0,0,1-.58,1.4L9.25,21ZM18.45,9,17,7.55Zm-12,3A5.31,5.31,0,0,0,4.9,8.1,5.31,5.31,0,0,0,1,6.5,5.31,5.31,0,0,0,4.9,4.9,5.31,5.31,0,0,0,6.5,1,5.31,5.31,0,0,0,8.1,4.9,5.31,5.31,0,0,0,12,6.5,5.46,5.46,0,0,0,6.5,12Z\"/>\n",
              "  </svg>\n",
              "    </button>\n",
              "    <script>\n",
              "      (() => {\n",
              "      const buttonEl =\n",
              "        document.querySelector('#id_b7945319-9c5f-4d66-a435-c6248a8627a4 button.colab-df-generate');\n",
              "      buttonEl.style.display =\n",
              "        google.colab.kernel.accessAllowed ? 'block' : 'none';\n",
              "\n",
              "      buttonEl.onclick = () => {\n",
              "        google.colab.notebook.generateWithVariable('tudo_junto');\n",
              "      }\n",
              "      })();\n",
              "    </script>\n",
              "  </div>\n",
              "\n",
              "    </div>\n",
              "  </div>\n"
            ],
            "application/vnd.google.colaboratory.intrinsic+json": {
              "type": "dataframe",
              "variable_name": "tudo_junto",
              "summary": "{\n  \"name\": \"tudo_junto\",\n  \"rows\": 19,\n  \"fields\": [\n    {\n      \"column\": \"estado\",\n      \"properties\": {\n        \"dtype\": \"category\",\n        \"num_unique_values\": 4,\n        \"samples\": [\n          \"SP\",\n          \"RJ\",\n          \"ES\"\n        ],\n        \"semantic_type\": \"\",\n        \"description\": \"\"\n      }\n    },\n    {\n      \"column\": \"idade\",\n      \"properties\": {\n        \"dtype\": \"number\",\n        \"std\": 14,\n        \"min\": 18,\n        \"max\": 62,\n        \"num_unique_values\": 14,\n        \"samples\": [\n          51,\n          20,\n          32\n        ],\n        \"semantic_type\": \"\",\n        \"description\": \"\"\n      }\n    },\n    {\n      \"column\": \"escolaridade\",\n      \"properties\": {\n        \"dtype\": \"category\",\n        \"num_unique_values\": 1,\n        \"samples\": [\n          \"Fundamental\"\n        ],\n        \"semantic_type\": \"\",\n        \"description\": \"\"\n      }\n    },\n    {\n      \"column\": \"n\\u00edvel de profici\\u00eancia em ingl\\u00eas\",\n      \"properties\": {\n        \"dtype\": \"category\",\n        \"num_unique_values\": 3,\n        \"samples\": [\n          \"Intermedi\\u00e1rio\"\n        ],\n        \"semantic_type\": \"\",\n        \"description\": \"\"\n      }\n    },\n    {\n      \"column\": \"renda\",\n      \"properties\": {\n        \"dtype\": \"number\",\n        \"std\": 725.9884803376987,\n        \"min\": 2008.61,\n        \"max\": 4148.77,\n        \"num_unique_values\": 19,\n        \"samples\": [\n          3615.94\n        ],\n        \"semantic_type\": \"\",\n        \"description\": \"\"\n      }\n    },\n    {\n      \"column\": \"sexo\",\n      \"properties\": {\n        \"dtype\": \"category\",\n        \"num_unique_values\": 1,\n        \"samples\": [\n          \"M\"\n        ],\n        \"semantic_type\": \"\",\n        \"description\": \"\"\n      }\n    }\n  ]\n}"
            }
          },
          "metadata": {},
          "execution_count": 110
        }
      ]
    },
    {
      "cell_type": "code",
      "source": [
        "len(tudo_junto)/1_000"
      ],
      "metadata": {
        "colab": {
          "base_uri": "https://localhost:8080/"
        },
        "id": "ivwJFPdEtXSC",
        "outputId": "79606d8e-18d2-4d16-f2c0-966a89f98309"
      },
      "execution_count": null,
      "outputs": [
        {
          "output_type": "execute_result",
          "data": {
            "text/plain": [
              "0.019"
            ]
          },
          "metadata": {},
          "execution_count": 117
        }
      ]
    },
    {
      "cell_type": "code",
      "source": [
        "[freq_sudeste, freq_homem, freq_ensino_fundamental, freq_renda_2mil]"
      ],
      "metadata": {
        "colab": {
          "base_uri": "https://localhost:8080/"
        },
        "id": "YfOEO6JNsiuW",
        "outputId": "c89b496b-0215-43ac-d56f-eda0df09171a"
      },
      "execution_count": null,
      "outputs": [
        {
          "output_type": "execute_result",
          "data": {
            "text/plain": [
              "[0.157, 0.486, 0.266, 0.858]"
            ]
          },
          "metadata": {},
          "execution_count": 115
        }
      ]
    },
    {
      "cell_type": "code",
      "source": [
        "0.157* 0.486* 0.266* 0.858"
      ],
      "metadata": {
        "colab": {
          "base_uri": "https://localhost:8080/"
        },
        "id": "HgvDtai6s_nd",
        "outputId": "d69941ed-b923-4260-9581-ed7ebeda9c2d"
      },
      "execution_count": null,
      "outputs": [
        {
          "output_type": "execute_result",
          "data": {
            "text/plain": [
              "0.017414252856"
            ]
          },
          "metadata": {},
          "execution_count": 116
        }
      ]
    },
    {
      "cell_type": "code",
      "source": [],
      "metadata": {
        "id": "-GEftzNdtV5p"
      },
      "execution_count": null,
      "outputs": []
    }
  ]
}